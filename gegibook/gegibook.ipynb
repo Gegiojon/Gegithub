{
 "cells": [
  {
   "cell_type": "code",
   "execution_count": 4,
   "metadata": {},
   "outputs": [
    {
     "name": "stdout",
     "output_type": "stream",
     "text": [
      "['c:\\\\Users\\\\Usuario\\\\Gegithub\\\\gegibook', 'c:\\\\Users\\\\Usuario\\\\anaconda3\\\\python312.zip', 'c:\\\\Users\\\\Usuario\\\\anaconda3\\\\DLLs', 'c:\\\\Users\\\\Usuario\\\\anaconda3\\\\Lib', 'c:\\\\Users\\\\Usuario\\\\anaconda3', '', 'c:\\\\Users\\\\Usuario\\\\anaconda3\\\\Lib\\\\site-packages', 'c:\\\\Users\\\\Usuario\\\\anaconda3\\\\Lib\\\\site-packages\\\\win32', 'c:\\\\Users\\\\Usuario\\\\anaconda3\\\\Lib\\\\site-packages\\\\win32\\\\lib', 'c:\\\\Users\\\\Usuario\\\\anaconda3\\\\Lib\\\\site-packages\\\\Pythonwin', 'c:\\\\Users\\\\Usuario\\\\anaconda3\\\\Lib\\\\site-packages\\\\setuptools\\\\_vendor', 'C:\\\\Users\\\\Usuario\\\\Gegithub', 'C:\\\\Users\\\\Usuario\\\\Gegithub']\n"
     ]
    }
   ],
   "source": [
    "import sys\n",
    "print(sys.path)\n",
    "sys.path.append(r'C:\\Users\\Usuario\\Gegithub')\n"
   ]
  },
  {
   "cell_type": "markdown",
   "metadata": {},
   "source": [
    "# Zoololo\n",
    "\n",
    "## Reescalar imágenes"
   ]
  },
  {
   "cell_type": "code",
   "execution_count": 8,
   "metadata": {},
   "outputs": [
    {
     "name": "stdout",
     "output_type": "stream",
     "text": [
      "El tamaño mínimo encontrado es: 768x768, en la imagen: Balaenoptera musculus.jpg\n",
      "Todas las imágenes han sido redimensionadas y guardadas en 'C:\\Users\\Usuario\\Desktop\\PROJECTS\\Zoololo\\Resized'.\n"
     ]
    }
   ],
   "source": [
    "from gegiscripts.zoololo import resize_images\n",
    "\n",
    "\n",
    "input_file = r\"C:\\Users\\Usuario\\Desktop\\PROJECTS\\Zoololo\"\n",
    "output_file= r\"C:\\Users\\Usuario\\Desktop\\PROJECTS\\Zoololo\\Resized\"\n",
    "\n",
    "resize_images(input_file,output_file)"
   ]
  },
  {
   "cell_type": "markdown",
   "metadata": {},
   "source": [
    "## Crear collage"
   ]
  },
  {
   "cell_type": "code",
   "execution_count": 9,
   "metadata": {},
   "outputs": [
    {
     "ename": "ImportError",
     "evalue": "cannot import name 'zoo_collage' from 'gegiscripts.zoololo' (C:\\Users\\Usuario\\Gegithub\\gegiscripts\\zoololo.py)",
     "output_type": "error",
     "traceback": [
      "\u001b[1;31m---------------------------------------------------------------------------\u001b[0m",
      "\u001b[1;31mImportError\u001b[0m                               Traceback (most recent call last)",
      "Cell \u001b[1;32mIn[9], line 1\u001b[0m\n\u001b[1;32m----> 1\u001b[0m \u001b[38;5;28;01mfrom\u001b[39;00m \u001b[38;5;21;01mgegiscripts\u001b[39;00m\u001b[38;5;21;01m.\u001b[39;00m\u001b[38;5;21;01mzoololo\u001b[39;00m \u001b[38;5;28;01mimport\u001b[39;00m zoo_collage\n\u001b[0;32m      3\u001b[0m output_file\u001b[38;5;241m=\u001b[39m \u001b[38;5;124mr\u001b[39m\u001b[38;5;124m\"\u001b[39m\u001b[38;5;124mC:\u001b[39m\u001b[38;5;124m\\\u001b[39m\u001b[38;5;124mUsers\u001b[39m\u001b[38;5;124m\\\u001b[39m\u001b[38;5;124mUsuario\u001b[39m\u001b[38;5;124m\\\u001b[39m\u001b[38;5;124mDesktop\u001b[39m\u001b[38;5;124m\\\u001b[39m\u001b[38;5;124mPROJECTS\u001b[39m\u001b[38;5;124m\\\u001b[39m\u001b[38;5;124mZoololo\u001b[39m\u001b[38;5;124m\\\u001b[39m\u001b[38;5;124mResized\u001b[39m\u001b[38;5;124m\"\u001b[39m\n\u001b[0;32m      5\u001b[0m zoo_collage(output_file)\n",
      "\u001b[1;31mImportError\u001b[0m: cannot import name 'zoo_collage' from 'gegiscripts.zoololo' (C:\\Users\\Usuario\\Gegithub\\gegiscripts\\zoololo.py)"
     ]
    }
   ],
   "source": [
    "from gegiscripts.zoololo import zoo_collage\n",
    "\n",
    "output_file= r\"C:\\Users\\Usuario\\Desktop\\PROJECTS\\Zoololo\\Resized\"\n",
    "\n",
    "zoo_collage(output_file)"
   ]
  }
 ],
 "metadata": {
  "kernelspec": {
   "display_name": "base",
   "language": "python",
   "name": "python3"
  },
  "language_info": {
   "codemirror_mode": {
    "name": "ipython",
    "version": 3
   },
   "file_extension": ".py",
   "mimetype": "text/x-python",
   "name": "python",
   "nbconvert_exporter": "python",
   "pygments_lexer": "ipython3",
   "version": "3.12.7"
  }
 },
 "nbformat": 4,
 "nbformat_minor": 2
}
